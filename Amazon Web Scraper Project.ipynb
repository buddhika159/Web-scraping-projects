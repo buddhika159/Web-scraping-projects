{
 "cells": [
  {
   "cell_type": "code",
   "execution_count": null,
   "id": "269c33cd",
   "metadata": {},
   "outputs": [],
   "source": [
    "# Import Libraries\n",
    "\n",
    "from bs4 import BeautifulSoup\n",
    "import requests\n",
    "\n",
    "import smtplib"
   ]
  },
  {
   "cell_type": "code",
   "execution_count": null,
   "id": "6293041a",
   "metadata": {},
   "outputs": [],
   "source": [
    "pip install lxml"
   ]
  },
  {
   "cell_type": "code",
   "execution_count": null,
   "id": "869f24bc",
   "metadata": {},
   "outputs": [],
   "source": [
    "# Connet to Amazon\n",
    "\n",
    "URL = 'https://www.amazon.com/ebossy-Length-Overcoat-Breasted-Quilted/dp/B07WRBKLN7/ref=sr_1_15?crid=33SOS4EQ8KGT7&dchild=1&keywords=full%2Bcoat%2Bfor%2Bmen&qid=1634966838&qsid=133-8310663-2260557&sprefix=full%2Bcoat%2Bfor%2Bmen%2Caps%2C123&sr=8-15&sres=B00Q7B3ADK%2CB07DL1BQ2H%2CB007X5XD4U%2CB07F93B4XG%2CB000KRVC8W%2CB07DW3LW2Q%2CB01BUFCJE8%2CB07DVWH78G%2CB07KSQYXVQ%2CB07HD8VYXQ%2CB01KILQ5SG%2CB01L0AZ0I0%2CB07ZSFSZNH%2CB0815HKH26%2CB07WRBKLN7%2CB07D8LT6XZ%2CB07LC5H79T%2CB081YFTF6P%2CB07KJMVX21%2CB084WV691B&srpt=COAT&th=1'\n",
    "\n",
    "headers = {\"User-Agent\": \"Mozilla/5.0 (Windows NT 10.0; Win64; x64) AppleWebKit/537.36 (KHTML, like Gecko) Chrome/94.0.4606.81 Safari/537.36\", \n",
    "    \"X-Amzn-Trace-Id\": \"Root=1-61739e40-3a3e80222ebb5a2428b857be\", \n",
    "    \"X-Client-Data\": \"CIS2yQEIprbJAQjEtskBCKmdygEIsdHKAQjyg8sBCOryywEI7/LLAQie+csBCN2EzAEI54TMAQi2hcwBCNWFzAEI/4XMAQiBhswBCNSHzAEYqqnKAQ==\"\n",
    "  }\n",
    "\n",
    "page = requests.get(URL, headers = headers)\n",
    "\n",
    "soup1 = BeautifulSoup(page.content, \"html\")\n",
    "soup2 = BeautifulSoup(soup1.prettify(),'html')\n",
    "\n",
    "print(soup2)\n"
   ]
  },
  {
   "cell_type": "code",
   "execution_count": null,
   "id": "04f4f536",
   "metadata": {},
   "outputs": [],
   "source": [
    "# Scrap the data\n",
    "\n",
    "title = soup2.find(id=\"productTitle\").get_text().strip()\n",
    "price = soup2.find(id=\"priceblock_ourprice\").get_text().strip()[1:6]\n",
    "price = float(price)\n",
    "print(title)\n",
    "print(price)"
   ]
  },
  {
   "cell_type": "code",
   "execution_count": null,
   "id": "25c2056e",
   "metadata": {},
   "outputs": [],
   "source": [
    "import datetime\n",
    "\n",
    "today = datetime.date.today()\n",
    "print(today)    "
   ]
  },
  {
   "cell_type": "code",
   "execution_count": null,
   "id": "7f6c6222",
   "metadata": {},
   "outputs": [],
   "source": [
    "# Creating a csv file to store the scraped data\n",
    "\n",
    "import csv\n",
    "\n",
    "header = ['Title','Price','Date']\n",
    "data = [title,price,today]\n",
    "\n",
    "# with open('AmazonWebScraperDataset.csv', 'w', newline = '', encoding = 'UTF8') as f:\n",
    "#     writer = csv.writer(f)\n",
    "#     writer.writerow(header)\n",
    "#     writer.writerow(data)\n"
   ]
  },
  {
   "cell_type": "code",
   "execution_count": null,
   "id": "2e1388b8",
   "metadata": {},
   "outputs": [],
   "source": [
    "# bring up the csv file\n",
    "\n",
    "import pandas as pd\n",
    "\n",
    "df = pd.read_csv(r'C:\\Users\\banda\\Dropbox\\Python\\AmazonWebScraperDataset.csv')\n",
    "print(df)"
   ]
  },
  {
   "cell_type": "code",
   "execution_count": null,
   "id": "6555b8f2",
   "metadata": {},
   "outputs": [],
   "source": [
    "# Now we are appending data to the csv\n",
    "\n",
    "header = ['Title','Price','Date']\n",
    "data = [title,price,today]\n",
    "\n",
    "with open('AmazonWebScraperDataset.csv', 'a+', newline = '', encoding = 'UTF8') as f:\n",
    "    writer = csv.writer(f)\n",
    "    writer.writerow(data)\n",
    "\n"
   ]
  },
  {
   "cell_type": "code",
   "execution_count": null,
   "id": "30d1886b",
   "metadata": {},
   "outputs": [],
   "source": []
  },
  {
   "cell_type": "code",
   "execution_count": null,
   "id": "24b8fe6a",
   "metadata": {},
   "outputs": [],
   "source": [
    "def send_mail(url, Target_price):\n",
    "    server = smtplib.SMTP_SSL('smtp.gmail.com',465)\n",
    "    server.ehlo()\n",
    "    #server.starttls()\n",
    "    server.ehlo()\n",
    "    server.login('bandara159@gmail.com','xxxxxxxxxxxxx')\n",
    "    \n",
    "    subject = f\"The coat you want is below ${Target_price}! Now is your chance to buy!\"\n",
    "    body = \"Buddhika, This is the moment we have been waiting for. Now is your chance to pick up the coat of your dreams. Don't mess it up! Link here: \"\n",
    "   \n",
    "    msg = f\"Subject: {subject}\\n\\n{body}\\n{url}\"\n",
    "    \n",
    "    server.sendmail('bandara159@gmail.com','bandara159@gmail.com',msg)"
   ]
  },
  {
   "cell_type": "code",
   "execution_count": null,
   "id": "ff92eab9",
   "metadata": {},
   "outputs": [],
   "source": [
    "#### Before sending the email go to https://www.google.com/settings/security/lesssecureapps and drop the security\n",
    "\n",
    "#### check if you can log in\n",
    "# smtpserver = smtplib.SMTP(\"smtp.gmail.com\", 587)\n",
    "# smtpserver.ehlo()\n",
    "# smtpserver.starttls()\n",
    "# smtpserver.ehlo()\n",
    "# smtpserver.login('bandara159@gmail.com','pilimathalawa')\n",
    "\n",
    "\n",
    "\n",
    "# send_mail(URL)\n"
   ]
  },
  {
   "cell_type": "code",
   "execution_count": null,
   "id": "959198af",
   "metadata": {},
   "outputs": [],
   "source": [
    "\n",
    "def check_price():\n",
    "    URL = 'https://www.amazon.com/ebossy-Length-Overcoat-Breasted-Quilted/dp/B07WRBKLN7/ref=sr_1_15?crid=33SOS4EQ8KGT7&dchild=1&keywords=full%2Bcoat%2Bfor%2Bmen&qid=1634966838&qsid=133-8310663-2260557&sprefix=full%2Bcoat%2Bfor%2Bmen%2Caps%2C123&sr=8-15&sres=B00Q7B3ADK%2CB07DL1BQ2H%2CB007X5XD4U%2CB07F93B4XG%2CB000KRVC8W%2CB07DW3LW2Q%2CB01BUFCJE8%2CB07DVWH78G%2CB07KSQYXVQ%2CB07HD8VYXQ%2CB01KILQ5SG%2CB01L0AZ0I0%2CB07ZSFSZNH%2CB0815HKH26%2CB07WRBKLN7%2CB07D8LT6XZ%2CB07LC5H79T%2CB081YFTF6P%2CB07KJMVX21%2CB084WV691B&srpt=COAT&th=1'\n",
    "\n",
    "    headers = {\"User-Agent\": \"Mozilla/5.0 (Windows NT 10.0; Win64; x64) AppleWebKit/537.36 (KHTML, like Gecko) Chrome/94.0.4606.81 Safari/537.36\", \n",
    "        \"X-Amzn-Trace-Id\": \"Root=1-61739e40-3a3e80222ebb5a2428b857be\", \n",
    "        \"X-Client-Data\": \"CIS2yQEIprbJAQjEtskBCKmdygEIsdHKAQjyg8sBCOryywEI7/LLAQie+csBCN2EzAEI54TMAQi2hcwBCNWFzAEI/4XMAQiBhswBCNSHzAEYqqnKAQ==\"\n",
    "      }\n",
    "\n",
    "    page = requests.get(URL, headers = headers)\n",
    "\n",
    "    soup1 = BeautifulSoup(page.content, \"html\")\n",
    "    soup2 = BeautifulSoup(soup1.prettify(),'html')\n",
    "\n",
    "    title = soup2.find(id=\"productTitle\").get_text().strip()\n",
    "    price = soup2.find(id=\"priceblock_ourprice\").get_text().strip()[1:6]\n",
    "\n",
    "    today = datetime.date.today()\n",
    "\n",
    "\n",
    "\n",
    "    header = ['Title','Price','Date']\n",
    "    data = [title,price,today]\n",
    "\n",
    "    with open('AmazonWebScraperDataset.csv', 'a+', newline = '', encoding = 'UTF8') as f:\n",
    "        writer = csv.writer(f)\n",
    "        writer.writerow(data)\n",
    "    \n",
    "    Target_price = 60\n",
    "    if (price < Target_price):\n",
    "        send_mail(URL, Target_price)\n",
    "        \n",
    "\n"
   ]
  },
  {
   "cell_type": "code",
   "execution_count": null,
   "id": "6aa1c2b9",
   "metadata": {},
   "outputs": [],
   "source": [
    "# Make the process automatic\n",
    "\n",
    "import time\n",
    "\n",
    "while(True):\n",
    "    check_price()\n",
    "    time.sleep(5)"
   ]
  },
  {
   "cell_type": "code",
   "execution_count": null,
   "id": "0f782f53",
   "metadata": {},
   "outputs": [],
   "source": [
    "df = pd.read_csv(r'C:\\Users\\banda\\Dropbox\\Python\\AmazonWebScraperDataset.csv')\n",
    "print(df)"
   ]
  },
  {
   "cell_type": "code",
   "execution_count": null,
   "id": "cbc6cb45",
   "metadata": {},
   "outputs": [],
   "source": []
  }
 ],
 "metadata": {
  "celltoolbar": "Raw Cell Format",
  "kernelspec": {
   "display_name": "Python 3",
   "language": "python",
   "name": "python3"
  },
  "language_info": {
   "codemirror_mode": {
    "name": "ipython",
    "version": 3
   },
   "file_extension": ".py",
   "mimetype": "text/x-python",
   "name": "python",
   "nbconvert_exporter": "python",
   "pygments_lexer": "ipython3",
   "version": "3.8.8"
  }
 },
 "nbformat": 4,
 "nbformat_minor": 5
}
