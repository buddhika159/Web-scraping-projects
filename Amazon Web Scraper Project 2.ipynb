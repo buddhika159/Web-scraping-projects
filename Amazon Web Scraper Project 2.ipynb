{
 "cells": [
  {
   "cell_type": "code",
   "execution_count": 1,
   "id": "3b9ad245",
   "metadata": {},
   "outputs": [],
   "source": [
    "# Import Libraries\n",
    "\n",
    "from bs4 import BeautifulSoup\n",
    "import requests\n",
    "\n",
    "import smtplib"
   ]
  },
  {
   "cell_type": "code",
   "execution_count": 2,
   "id": "24e9f120",
   "metadata": {},
   "outputs": [
    {
     "name": "stdout",
     "output_type": "stream",
     "text": [
      "Requirement already satisfied: lxml in c:\\programdata\\anaconda3\\lib\\site-packages (4.6.3)\n",
      "Note: you may need to restart the kernel to use updated packages.\n"
     ]
    }
   ],
   "source": [
    "pip install lxml"
   ]
  },
  {
   "cell_type": "code",
   "execution_count": 3,
   "id": "96f06f56",
   "metadata": {},
   "outputs": [],
   "source": [
    "# Connet to Amazon\n",
    "\n",
    "URL = 'https://www.amazon.com/gp/bestsellers/fashion'\n",
    "\n",
    "headers = {\"User-Agent\": \"Mozilla/5.0 (Windows NT 10.0; Win64; x64) AppleWebKit/537.36 (KHTML, like Gecko) Chrome/94.0.4606.81 Safari/537.36\", \n",
    "    \"X-Amzn-Trace-Id\": \"Root=1-61739e40-3a3e80222ebb5a2428b857be\", \n",
    "    \"X-Client-Data\": \"CIS2yQEIprbJAQjEtskBCKmdygEIsdHKAQjyg8sBCOryywEI7/LLAQie+csBCN2EzAEI54TMAQi2hcwBCNWFzAEI/4XMAQiBhswBCNSHzAEYqqnKAQ==\"\n",
    "  }\n",
    "\n",
    "page = requests.get(URL, headers = headers)\n",
    "\n",
    "soup1 = BeautifulSoup(page.content, \"html.parser\")\n",
    "soup2 = BeautifulSoup(soup1.prettify(),'html.parser')\n",
    "\n"
   ]
  },
  {
   "cell_type": "code",
   "execution_count": 4,
   "id": "4bda6321",
   "metadata": {},
   "outputs": [],
   "source": [
    "# Scraping data for names and prices\n",
    "\n",
    "Listed_names = soup2.find_all(class_=\"a-section a-spacing-small\")\n",
    "Listed_prices = soup2.find_all(class_=\"p13n-sc-price\")\n",
    "name = []\n",
    "price = []\n",
    "\n",
    "for i in range(len(Listed_names)):\n",
    "    n = Listed_names[i].find('img')\n",
    "    n = n.attrs['alt']\n",
    "    name.append(n)\n",
    "    \n",
    "    p = Listed_prices[i].get_text().strip()\n",
    "    p = float(p[1:])\n",
    "    price.append(p)\n",
    "    "
   ]
  },
  {
   "cell_type": "code",
   "execution_count": 5,
   "id": "3d0711ed",
   "metadata": {},
   "outputs": [],
   "source": [
    "# Creating a csv file to store the scraped data\n",
    "\n",
    "import csv\n",
    "\n",
    "header = ['Product','Price']\n",
    "\n",
    "with open('AmazonWebScraperDataset.csv', 'w', newline = '', encoding = 'UTF8') as file:\n",
    "    writer = csv.writer(file)\n",
    "    writer.writerow(header)\n",
    "    for w in range(len(name)):\n",
    "        writer.writerow([name[w],price[w]])\n",
    "\n",
    "file.close()\n"
   ]
  },
  {
   "cell_type": "code",
   "execution_count": 6,
   "id": "9b2a9c9e",
   "metadata": {},
   "outputs": [
    {
     "name": "stdout",
     "output_type": "stream",
     "text": [
      "                                              Product   Price\n",
      "0   Crocs Unisex-Adult Men's and Women's Classic Clog   29.02\n",
      "1   Charmnight Womens High Waist Tights Fishnet St...  102.84\n",
      "2                     Hanes Men's EcoSmart Sweatshirt    5.99\n",
      "3     Hanes Men's Pullover EcoSmart Hooded Sweatshirt    6.99\n",
      "4      Gildan Men's Ultra Cotton T-Shirt, Style G2400    4.99\n",
      "5   Gildan Men's Fleece Hooded Sweatshirt, Style G...   30.70\n",
      "6   Fruit of the Loom Men's Eversoft Fleece Sweats...   12.15\n",
      "7   Legendary Whitetails Men's Buck Camp Flannel S...   42.90\n",
      "8          Hanes Men's Beefy Long Sleeve Henley Shirt    9.99\n",
      "9   Urban CoCo Women's Basic Versatile Stretchy Fl...  154.08\n",
      "10                  Carhartt Men's Knit Cuffed Beanie   11.89\n",
      "11  Dickies Men's Dri-tech Moisture Control Crew S...   37.56\n",
      "12  EOPUING Women's Winter Trench Coats, Basic Bre...   10.98\n",
      "13     Gildan Men's Ultra Cotton T-Shirt, Style G2000  125.00\n",
      "14              Gildan Men's Crew T-Shirts, Multipack   29.99\n",
      "15      Fruit of the Loom Men's Coolzone Boxer Briefs   56.49\n",
      "16            Gildan Men's V-Neck T-Shirts, Multipack    8.55\n",
      "17  Fruit of the Loom Men's Eversoft Fleece Sweatp...   24.93\n",
      "18  Simplicity Women's Adult Classic Elastic 3 or ...   13.98\n",
      "19  UNIPIN Women Cardigan Hooded Oversized Fleece ...   28.21\n",
      "20  T-Shirt for Women V Neck Long Sleeve Pullover ...   16.95\n",
      "21  LINKIOM Women's Winter Trench Coats, Basic Bre...   54.99\n",
      "22  Amoretu Women Summer Tunic Dress V Neck Casual...   10.25\n",
      "23  Gildan Men's Fleece Crewneck Sweatshirt, Style...   42.00\n",
      "24  Leggings Depot Women's Printed Solid Activewea...    8.49\n",
      "25  SATINA High Waisted Leggings for Women - Soft ...   23.09\n",
      "26  MANGOPOP Women's Mock Turtle Neck Long Sleeve ...    8.48\n",
      "27  Signature by Levi Strauss & Co. Gold Label Wom...  109.94\n",
      "28                 Levi's Men's 505 Regular Fit Jeans   15.97\n",
      "29              Hanes Men's Full-Zip Eco-Smart Hoodie   75.12\n",
      "30         Hanes Women's EcoSmart Crewneck Sweatshirt   14.00\n",
      "31  frawirshau Women's Lace Up Boned Overbust Cors...  454.69\n",
      "32                    Carhartt Kids Acrylic Watch Hat   11.50\n",
      "33  Wrangler Authentics Men's Classic 5-Pocket Rel...   46.31\n",
      "34  MIHOLL Women’s Long Sleeve Tops Lace Casual Lo...   10.99\n",
      "35  Gildan Men's Heavy Cotton T-Shirt, Style G5000...  125.00\n",
      "36      Gildan Youth Hooded Sweatshirt, Style G18500B   14.99\n",
      "37           Hanes Girls' ComfortSoft Long Sleeve Tee   18.99\n",
      "38  Sivvan Women's Comfort Long Sleeve T-Shirt/Und...    3.99\n",
      "39        Jerzees Men's Dri-Power Long Sleeve T-Shirt   32.99\n",
      "40  akiido Fishnet Stockings Fishnet Tights Thigh ...   14.97\n",
      "41  Carhartt Men's K87 Workwear Short Sleeve T-Shi...   15.98\n",
      "42  Crocs Unisex-Child Classic Clog with Dual Sizi...    7.29\n",
      "43               Hanes Women's Jersey Full Zip Hoodie   25.90\n",
      "44  Alimens & Gentle Men's Button Down Regular Fit...   23.99\n",
      "45  Baby Boys Girls Dinosaur Cartoon Down Winter T...   31.99\n",
      "46  Women's, Teen, Adult Classic Elastic 3, 4, 5 L...    9.88\n",
      "47  No Show Socks Women Low Socks Non Slip Flat Bo...   30.66\n",
      "48                     Just Love Adult Onesie Pajamas    8.99\n",
      "49  Amazon Essentials Women's Cotton Stretch Bikin...   16.99\n"
     ]
    }
   ],
   "source": [
    "# bring up the csv file\n",
    "\n",
    "import pandas as pd\n",
    "\n",
    "df = pd.read_csv(r'C:\\Users\\banda\\Dropbox\\Python\\AmazonWebScraperDataset.csv')\n",
    "print(df)"
   ]
  },
  {
   "cell_type": "code",
   "execution_count": null,
   "id": "980d60c2",
   "metadata": {},
   "outputs": [],
   "source": []
  }
 ],
 "metadata": {
  "celltoolbar": "Raw Cell Format",
  "kernelspec": {
   "display_name": "Python 3",
   "language": "python",
   "name": "python3"
  },
  "language_info": {
   "codemirror_mode": {
    "name": "ipython",
    "version": 3
   },
   "file_extension": ".py",
   "mimetype": "text/x-python",
   "name": "python",
   "nbconvert_exporter": "python",
   "pygments_lexer": "ipython3",
   "version": "3.8.8"
  }
 },
 "nbformat": 4,
 "nbformat_minor": 5
}
