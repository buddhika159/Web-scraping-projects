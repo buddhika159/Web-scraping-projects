{
 "cells": [
  {
   "cell_type": "markdown",
   "id": "ca7575d7",
   "metadata": {},
   "source": [
    "# Dallas Restaurants - Web scraping project\n",
    "This project is a web scraping project to get data of the restaurants in dallas using YELP website. Im extracting the following info:\n",
    "- Restaurant name\n",
    "- Rating\n",
    "- Number of Reviews\n",
    "- Price tag"
   ]
  },
  {
   "cell_type": "code",
   "execution_count": 1,
   "id": "d6c3e944",
   "metadata": {},
   "outputs": [],
   "source": [
    "import bs4 as bs\n",
    "import urllib.request as url"
   ]
  },
  {
   "cell_type": "code",
   "execution_count": 2,
   "id": "be09d898",
   "metadata": {},
   "outputs": [],
   "source": [
    "source = url.urlopen('https://www.yelp.com/search?cflt=restaurants&find_loc=Dallas%2C%20TX&sortby=review_count&start=0')"
   ]
  },
  {
   "cell_type": "code",
   "execution_count": 3,
   "id": "ce539d35",
   "metadata": {},
   "outputs": [],
   "source": [
    "page_soup = bs.BeautifulSoup(source, 'html.parser')\n",
    "page_soup = bs.BeautifulSoup(page_soup.prettify(),'html.parser')"
   ]
  },
  {
   "cell_type": "code",
   "execution_count": 4,
   "id": "5983b2de",
   "metadata": {},
   "outputs": [
    {
     "data": {
      "text/plain": [
       "35"
      ]
     },
     "execution_count": 4,
     "metadata": {},
     "output_type": "execute_result"
    }
   ],
   "source": [
    "mains = page_soup.find_all(\"div\", {\"class\": \"arrange-unit__09f24__eFC_S arrange-unit-fill__09f24__1bMmp border-color--default__09f24__3Epto\"})\n",
    "len(mains)"
   ]
  },
  {
   "cell_type": "markdown",
   "id": "75f9e691",
   "metadata": {},
   "source": [
    "Main attribute \"div\" with the class seems to occure 35 times eventhough the page shows only 10 results."
   ]
  },
  {
   "cell_type": "markdown",
   "id": "5e101b46",
   "metadata": {},
   "source": [
    "Following *scrap* funcition is for scraping the main attributes iteratively for the above info.\n",
    "- First it search for <a tag with \"class\": \"css-1f2a2s6\" to get parent elements.\n",
    "    - If a valied name exists if goes on to scrap other info.\n",
    "- When scraping for ratings, found two classes under <div tag\n",
    "- Price tag was under <span tag"
   ]
  },
  {
   "cell_type": "code",
   "execution_count": 5,
   "id": "2edde13a",
   "metadata": {},
   "outputs": [],
   "source": [
    "def scrap(mains):\n",
    "    for main in mains:\n",
    "        try:\n",
    "            bus_name = main.find(\"a\", {\"class\": \"css-1f2a2s6\"}).text.strip()\n",
    "            names.append(bus_name)\n",
    "    \n",
    "            try:\n",
    "                rating = main.find(\"div\", {\"class\": \"i-stars__09f24___sZu0 i-stars--regular-4-half__09f24__3Qo_8 border-color--default__09f24__3Epto overflow--hidden__09f24__7Mh-7\"}).get(\"aria-label\")\n",
    "                rating = rating.split()[0]\n",
    "                ratings.append(rating)\n",
    "            except:\n",
    "                try:\n",
    "                    rating = main.find(\"div\", {\"class\": \"i-stars__09f24___sZu0 i-stars--regular-4__09f24__3b-zE border-color--default__09f24__3Epto overflow--hidden__09f24__7Mh-7\"}).get(\"aria-label\")\n",
    "                    rating = rating.split()[0]\n",
    "                    ratings.append(rating)\n",
    "                except:\n",
    "                    ratings.append(\"None\")\n",
    "            \n",
    "    \n",
    "            try:\n",
    "                review = main.find(\"span\", {\"class\": \"reviewCount__09f24__3GsGY css-e81eai\"}).text.strip()\n",
    "                reviews.append(review)\n",
    "            except:\n",
    "                reviews.append(\"None\")\n",
    "        \n",
    "        \n",
    "            try:\n",
    "                price_tag = main.find(\"span\", {\"class\": \"priceRange__09f24__2GspP css-xtpg8e\"}).text.strip()\n",
    "                price_tags.append(price_tag)\n",
    "            except:\n",
    "                price_tags.append(\"None\")\n",
    "        \n",
    "        except:\n",
    "            pass"
   ]
  },
  {
   "cell_type": "markdown",
   "id": "2b3d7b45",
   "metadata": {},
   "source": [
    "Using above funciton scrap, I'm scraping all the pages with a loop"
   ]
  },
  {
   "cell_type": "code",
   "execution_count": 6,
   "id": "b7ca3efb",
   "metadata": {},
   "outputs": [
    {
     "name": "stdout",
     "output_type": "stream",
     "text": [
      "page 1 done\n",
      "page 2 done\n",
      "page 3 done\n",
      "page 4 done\n",
      "page 5 done\n",
      "page 6 done\n",
      "page 7 done\n",
      "page 8 done\n",
      "page 9 done\n",
      "page 10 done\n",
      "page 11 done\n",
      "page 12 done\n",
      "page 13 done\n",
      "page 14 done\n",
      "page 15 done\n",
      "page 16 done\n",
      "page 17 done\n",
      "page 18 done\n",
      "page 19 done\n",
      "page 20 done\n",
      "page 21 done\n",
      "page 22 done\n",
      "page 23 done\n",
      "page 24 done\n"
     ]
    }
   ],
   "source": [
    "names = []\n",
    "ratings = []\n",
    "reviews = []\n",
    "price_tags = []\n",
    "\n",
    "\n",
    "for n in range(0, 240, 10): # there are 24 pages\n",
    "    source = url.urlopen(f'https://www.yelp.com/search?cflt=restaurants&find_loc=Dallas%2C%20TX&sortby=review_count&start={n}')\n",
    "    page_soup = bs.BeautifulSoup(source, 'html.parser')\n",
    "    page_soup = bs.BeautifulSoup(page_soup.prettify(),'html.parser')\n",
    "    \n",
    "    mains = page_soup.find_all(\"div\", {\"class\": \"arrange-unit__09f24__eFC_S arrange-unit-fill__09f24__1bMmp border-color--default__09f24__3Epto\"})\n",
    "    scrap(mains)\n",
    "    print(f\"page {int((n+10)/10)} done\")"
   ]
  },
  {
   "cell_type": "code",
   "execution_count": 7,
   "id": "0c42a93f",
   "metadata": {},
   "outputs": [
    {
     "name": "stdout",
     "output_type": "stream",
     "text": [
      "240\n",
      "240\n",
      "240\n",
      "240\n"
     ]
    }
   ],
   "source": [
    "print(len(names))\n",
    "print(len(ratings))\n",
    "print(len(reviews))\n",
    "print(len(price_tags))"
   ]
  },
  {
   "cell_type": "code",
   "execution_count": 8,
   "id": "34f8a0b6",
   "metadata": {},
   "outputs": [],
   "source": [
    "# Creating a csv file to store the scraped data\n",
    "\n",
    "import csv\n",
    "\n",
    "header = ['Restaurant Name', 'Rating', 'No. reviews', 'Price tag']\n",
    "\n",
    "with open('Yelp_restaurants.csv', 'w', newline = '', encoding = 'UTF8') as file:\n",
    "    writer = csv.writer(file)\n",
    "    writer.writerow(header)\n",
    "    for item in range(len(names)):\n",
    "        writer.writerow([names[item], ratings[item], reviews[item], price_tags[item]])\n",
    "\n",
    "file.close()"
   ]
  },
  {
   "cell_type": "code",
   "execution_count": 9,
   "id": "b4420667",
   "metadata": {},
   "outputs": [
    {
     "name": "stdout",
     "output_type": "stream",
     "text": [
      "              Restaurant Name Rating  No. reviews Price tag\n",
      "0                 Pecan Lodge    4.5         5408        $$\n",
      "1                     Ellen’s      4         2834        $$\n",
      "2    Kenny’s Wood Fired Grill    4.5         2780      None\n",
      "3                 Velvet Taco    4.5         2762         $\n",
      "4            Maple Leaf Diner    4.5         2718        $$\n",
      "..                        ...    ...          ...       ...\n",
      "235        Studio Movie Grill   None          512        $$\n",
      "236        Sura Korean Bistro      4          511      None\n",
      "237      18th & Vine Barbeque   None          511        $$\n",
      "238       Yolk Preston Center      4          509      None\n",
      "239                    Gators   None          508        $$\n",
      "\n",
      "[240 rows x 4 columns]\n"
     ]
    }
   ],
   "source": [
    "# bring up the csv file\n",
    "\n",
    "import pandas as pd\n",
    "\n",
    "df = pd.read_csv('Yelp_restaurants.csv')\n",
    "print(df)"
   ]
  },
  {
   "cell_type": "code",
   "execution_count": null,
   "id": "0aae1497",
   "metadata": {},
   "outputs": [],
   "source": []
  }
 ],
 "metadata": {
  "kernelspec": {
   "display_name": "Python 3",
   "language": "python",
   "name": "python3"
  },
  "language_info": {
   "codemirror_mode": {
    "name": "ipython",
    "version": 3
   },
   "file_extension": ".py",
   "mimetype": "text/x-python",
   "name": "python",
   "nbconvert_exporter": "python",
   "pygments_lexer": "ipython3",
   "version": "3.8.8"
  }
 },
 "nbformat": 4,
 "nbformat_minor": 5
}
